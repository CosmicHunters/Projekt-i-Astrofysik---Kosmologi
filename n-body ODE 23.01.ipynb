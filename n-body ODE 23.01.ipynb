{
 "cells": [
  {
   "cell_type": "code",
   "execution_count": 58,
   "metadata": {},
   "outputs": [],
   "source": [
    "import numpy as np\n",
    "import matplotlib.pyplot as plt\n",
    "G = 1\n",
    "m = 1"
   ]
  },
  {
   "cell_type": "code",
   "execution_count": 145,
   "metadata": {},
   "outputs": [],
   "source": [
    "def dvdt(pos, n_dim):\n",
    "    \n",
    "    M = len(pos)\n",
    "    \n",
    "    a = np.zeros((M//n_dim, M//n_dim, n_dim))\n",
    "    \n",
    "    for i in range(M//n_dim):\n",
    "        \n",
    "        for j in range(i + 1, M//n_dim):\n",
    "                    \n",
    "            r2 = 1e-3\n",
    "            \n",
    "            for k in range(n_dim):\n",
    "                \n",
    "                r2 += (pos[j * n_dim + k] - pos[i * n_dim + k])**2\n",
    "            \n",
    "            \n",
    "            constant = -G* m * r2**(-3/2)\n",
    "            \n",
    "            for k in range(n_dim):\n",
    "                \n",
    "                F = constant * (pos[i * n_dim + k]- pos[j * n_dim + k])\n",
    "                \n",
    "                a[i, j ,k] = F\n",
    "                a[j, i, k] = -F\n",
    "                \n",
    "    #a_tot = a.sum(axis=1)\n",
    "    a_tot = np.zeros(pos.shape) \n",
    "    \n",
    "    for i in range(M//n_dim): \n",
    "        \n",
    "        for k in range(n_dim):\n",
    "        \n",
    "            for j in range(M//n_dim):\n",
    "                \n",
    "                a_tot[i * n_dim + k] += a[i, j ,k]\n",
    "    \n",
    "    return a_tot"
   ]
  },
  {
   "cell_type": "code",
   "execution_count": 146,
   "metadata": {},
   "outputs": [],
   "source": [
    "def get_next_step(Y, n_dim, dt):\n",
    "    \n",
    "    N = len(Y)\n",
    "    \n",
    "    M = N//2\n",
    "    pos = Y[:M]\n",
    "    vel = Y[M:]\n",
    "    \n",
    "    pos_new = pos + vel * dt\n",
    "    \n",
    "    a_tot = dvdt(pos_new, n_dim)\n",
    "    \n",
    "    vel_new = vel + a_tot * dt\n",
    "    \n",
    "    res = np.empty(Y.shape)\n",
    "    res[:M] = pos_new\n",
    "    res[M:] = vel_new\n",
    "    return res"
   ]
  },
  {
   "cell_type": "code",
   "execution_count": 147,
   "metadata": {},
   "outputs": [],
   "source": [
    "pos = [-1,0, 1,0]\n",
    "vini = 0.1\n",
    "vel = [0,-vini, 0,vini]\n",
    "\n",
    "N_t = 1030\n",
    "\n",
    "\n",
    "Y = np.zeros((2 * len(pos), N_t))\n",
    "\n",
    "Y[:4, 0] = pos\n",
    "Y[4:, 0] = vel\n",
    "\n",
    "for i in range(1,N_t):\n",
    "    \n",
    "    Y[:, i] = get_next_step(Y[:, i - 1], 2, 0.01)"
   ]
  },
  {
   "cell_type": "code",
   "execution_count": 148,
   "metadata": {},
   "outputs": [
    {
     "data": {
      "text/plain": [
       "[<matplotlib.lines.Line2D at 0x1ac5e9df910>]"
      ]
     },
     "execution_count": 148,
     "metadata": {},
     "output_type": "execute_result"
    },
    {
     "data": {
      "image/png": "[encoded data removed]",
      "text/plain": [
       "<Figure size 432x288 with 1 Axes>"
      ]
     },
     "metadata": {
      "needs_background": "light"
     },
     "output_type": "display_data"
    }
   ],
   "source": [
    "plt.plot(Y[0, :], Y[1, :])\n",
    "plt.plot(Y[2, :], Y[3, :])"
   ]
  },
  {
   "cell_type": "code",
   "execution_count": null,
   "metadata": {},
   "outputs": [],
   "source": []
  },
  {
   "cell_type": "code",
   "execution_count": null,
   "metadata": {},
   "outputs": [],
   "source": []
  }
 ],
 "metadata": {
  "kernelspec": {
   "display_name": "Python 3",
   "language": "python",
   "name": "python3"
  },
  "language_info": {
   "codemirror_mode": {
    "name": "ipython",
    "version": 3
   },
   "file_extension": ".py",
   "mimetype": "text/x-python",
   "name": "python",
   "nbconvert_exporter": "python",
   "pygments_lexer": "ipython3",
   "version": "3.8.3"
  }
 },
 "nbformat": 4,
 "nbformat_minor": 4
}
